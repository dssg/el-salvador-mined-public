{
 "cells": [
  {
   "cell_type": "markdown",
   "metadata": {},
   "source": [
    "# EDA\n",
    "\n",
    "### An Exploratory Data Analysis on the Salvadoran students"
   ]
  },
  {
   "cell_type": "code",
   "execution_count": null,
   "metadata": {},
   "outputs": [],
   "source": [
    "%config IPCompleter.greedy=True\n",
    "\n",
    "import yaml\n",
    "import pandas as pd\n",
    "import seaborn as sns\n",
    "import matplotlib.pyplot as plt\n",
    "import psycopg2\n",
    "import numpy as np\n",
    "#from os import path\n",
    "import os\n",
    "import os.path\n",
    "import sys\n",
    "from sqlalchemy import create_engine\n",
    "\n",
    "pd.set_option(\"display.max_rows\", 50)\n",
    "pd.set_option('display.max_columns', None)\n",
    "\n",
    "# Set the path\n",
    "home_dir = os.getcwd()\n",
    "credential_dir = os.path.join('/mnt/data/projects/el_salvador_mined_education', 'ana', 'db_credentials')"
   ]
  },
  {
   "cell_type": "code",
   "execution_count": null,
   "metadata": {},
   "outputs": [],
   "source": [
    "def create_pgconn(credentials_yaml):\n",
    "    with open(credentials_yaml) as f:\n",
    "        configs = yaml.load(f)\n",
    "    try: \n",
    "        conn = psycopg2.connect(\"dbname='{}' user='{}' host='{}' password='{}'\".format(\n",
    "            configs['database'],\n",
    "            configs['user'],\n",
    "            configs['host'],\n",
    "            configs['password']))\n",
    "    except: \n",
    "        print(\"Error connecting to db.\")\n",
    "\n",
    "    cur = conn.cursor()\n",
    "    cur.execute(\"SET ROLE \" + configs['role'])\n",
    "    return conn\n",
    "credentials_yaml = os.path.join(credential_dir, 'avaldivia_elsalvador.yaml') #example file on hitchikers repo\n",
    "conn = create_pgconn(credentials_yaml)\n",
    "def sql(query, conn=conn):\n",
    "    return pd.read_sql(query, conn)"
   ]
  },
  {
   "cell_type": "markdown",
   "metadata": {},
   "source": [
    "Let's get all the columns from all tables in schema 'cleaned':"
   ]
  },
  {
   "cell_type": "markdown",
   "metadata": {},
   "source": [
    "### Take a look at student_registration"
   ]
  },
  {
   "cell_type": "markdown",
   "metadata": {},
   "source": [
    "### Take a look at the columns variables"
   ]
  },
  {
   "cell_type": "code",
   "execution_count": null,
   "metadata": {},
   "outputs": [],
   "source": [
    "count_students_diff_dpto = sql(\"\"\"\n",
    "    select count(distinct(nie))\n",
    "    from cleaned.students_labelled\n",
    "    where dpto_code_student != dpto_code_ce;\n",
    "\"\"\")\n",
    "\n",
    "count_total_students = sql(\"\"\"\n",
    "    select count(distinct(nie))\n",
    "    from cleaned.students_labelled;\n",
    "\"\"\")\n",
    "\n",
    "count_students_diff_dpto/count_total_students"
   ]
  },
  {
   "cell_type": "code",
   "execution_count": null,
   "metadata": {},
   "outputs": [],
   "source": [
    "import plotly.plotly as py"
   ]
  },
  {
   "cell_type": "code",
   "execution_count": null,
   "metadata": {},
   "outputs": [],
   "source": [
    "count_students_dpto = sql(\"\"\"\n",
    "    select dpto_name_student, dpto_name_ce, count(*)\n",
    "    from cleaned.students_labelled\n",
    "    group by dpto_name_student, dpto_name_ce\n",
    "    having (dpto_name_student != 'None') and (dpto_name_student != 'EXTRANJERO');\n",
    "\"\"\")"
   ]
  },
  {
   "cell_type": "code",
   "execution_count": null,
   "metadata": {},
   "outputs": [],
   "source": [
    "# create data table for diagram\n",
    "df = count_students_dpto.copy()\n",
    "\n",
    "dptos = {'AHUACHAPAN': 1, 'SANTA ANA': 2, 'SONSONATE': 3, 'CHALATENANGO' : 4, \n",
    "           'LA LIBERTAD' : 5, 'SAN SALVADOR' : 6, 'CUSCATLAN' : 7, 'LA PAZ' : 8,\n",
    "          'CABAÑAS' : 9, 'SAN VICENTE' : 10, 'USULUTAN' : 11, 'SAN MIGUEL' : 12,\n",
    "          'MORAZAN' : 13, 'LA UNION' : 14}\n",
    "\n",
    "df[\"source\"] = df[\"dpto_name_student\"].map(dptos) - 1\n",
    "df[\"target\"] = (df[\"dpto_name_ce\"].map(dptos) - 1) + 14\n",
    "\n",
    "conditions = [\n",
    "    (df['dpto_name_student'] == 'AHUACHAPAN') & (df['dpto_name_ce'] != 'AHUACHAPAN'),\n",
    "    (df['dpto_name_student'] == 'AHUACHAPAN') & (df['dpto_name_ce'] == 'AHUACHAPAN'), \n",
    "    (df['dpto_name_student'] == 'SANTA ANA') & (df['dpto_name_ce'] != 'SANTA ANA'),\n",
    "    (df['dpto_name_student'] == 'SANTA ANA') & (df['dpto_name_ce'] == 'SANTA ANA'),\n",
    "    (df['dpto_name_student'] == 'SONSONATE') & (df['dpto_name_ce'] != 'SONSONATE'),\n",
    "    (df['dpto_name_student'] == 'SONSONATE') & (df['dpto_name_ce'] == 'SONSONATE'),\n",
    "    (df['dpto_name_student'] == 'CHALATENANGO') & (df['dpto_name_ce'] != 'CHALATENANGO'),\n",
    "    (df['dpto_name_student'] == 'CHALATENANGO') & (df['dpto_name_ce'] == 'CHALATENANGO'),\n",
    "    (df['dpto_name_student'] == 'LA LIBERTAD') & (df['dpto_name_ce'] != 'LA LIBERTAD'),\n",
    "    (df['dpto_name_student'] == 'LA LIBERTAD') & (df['dpto_name_ce'] == 'LA LIBERTAD'),\n",
    "    (df['dpto_name_student'] == 'SAN SALVADOR') & (df['dpto_name_ce'] != 'SAN SALVADOR'),\n",
    "    (df['dpto_name_student'] == 'SAN SALVADOR') & (df['dpto_name_ce'] == 'SAN SALVADOR'),\n",
    "    (df['dpto_name_student'] == 'CUSCATLAN') & (df['dpto_name_ce'] != 'CUSCATLAN'),\n",
    "    (df['dpto_name_student'] == 'CUSCATLAN') & (df['dpto_name_ce'] == 'CUSCATLAN'),\n",
    "    (df['dpto_name_student'] == 'LA PAZ') & (df['dpto_name_ce'] != 'LA PAZ'),\n",
    "    (df['dpto_name_student'] == 'LA PAZ') & (df['dpto_name_ce'] == 'LA PAZ'),\n",
    "    (df['dpto_name_student'] == 'CABAÑAS') & (df['dpto_name_ce'] != 'CABAÑAS'),\n",
    "    (df['dpto_name_student'] == 'CABAÑAS') & (df['dpto_name_ce'] == 'CABAÑAS'),\n",
    "    (df['dpto_name_student'] == 'SAN VICENTE') & (df['dpto_name_ce'] != 'SAN VICENTE'),\n",
    "    (df['dpto_name_student'] == 'SAN VICENTE') & (df['dpto_name_ce'] == 'SAN VICENTE'),\n",
    "    (df['dpto_name_student'] == 'USULUTAN') & (df['dpto_name_ce'] != 'USULUTAN'),\n",
    "    (df['dpto_name_student'] == 'USULUTAN') & (df['dpto_name_ce'] == 'USULUTAN'),\n",
    "    (df['dpto_name_student'] == 'SAN MIGUEL') & (df['dpto_name_ce'] != 'SAN MIGUEL'),\n",
    "    (df['dpto_name_student'] == 'SAN MIGUEL') & (df['dpto_name_ce'] == 'SAN MIGUEL'),\n",
    "    (df['dpto_name_student'] == 'MORAZAN') & (df['dpto_name_ce'] != 'MORAZAN'),\n",
    "    (df['dpto_name_student'] == 'MORAZAN') & (df['dpto_name_ce'] == 'MORAZAN'),\n",
    "    (df['dpto_name_student'] == 'LA UNION') & (df['dpto_name_ce'] != 'LA UNION'),\n",
    "    (df['dpto_name_student'] == 'LA UNION') & (df['dpto_name_ce'] == 'LA UNION')]\n",
    "\n",
    "choices = ['#e818a5', '#e4e4e4', \n",
    "           '#854cef', '#e4e4e4',\n",
    "           '#3710f1', '#e4e4e4',\n",
    "           '#109df1', '#e4e4e4',\n",
    "           '#0faaa6', '#e4e4e4',\n",
    "           '#23cf70', '#e4e4e4',\n",
    "           '#42a62d', '#e4e4e4',\n",
    "           '#97cc31', '#e4e4e4',\n",
    "           '#e6ee00', '#e4e4e4',\n",
    "           '#f9be00', '#e4e4e4',\n",
    "           '#f99200', '#e4e4e4',\n",
    "           '#f93a00', '#e4e4e4',\n",
    "           '#f900df', '#e4e4e4',\n",
    "           '#a800ff', '#e4e4e4']\n",
    "df['link colors'] = np.select(conditions, choices, default='#e4e4e4')\n",
    "\n",
    "df.head()"
   ]
  },
  {
   "cell_type": "code",
   "execution_count": null,
   "metadata": {},
   "outputs": [],
   "source": [
    "data_trace = dict(\n",
    "    type = 'sankey',\n",
    "    domain = dict(\n",
    "      x =  [0,1],\n",
    "      y =  [0,1]\n",
    "    ),\n",
    "    orientation = \"h\",\n",
    "    valueformat = \".0f\",\n",
    "    node = dict(\n",
    "      pad = 10,\n",
    "      thickness = 30,\n",
    "      line = dict(\n",
    "        color = \"black\",\n",
    "        width = 0\n",
    "      ),\n",
    "      label =  ['AHUACHAPAN', 'SANTA ANA', 'SONSONATE', 'CHALATENANGO', \n",
    "               'LA LIBERTAD', 'SAN SALVADOR', 'CUSCATLAN', 'LA PAZ',\n",
    "              'CABAÑAS', 'SAN VICENTE', 'USULUTAN', 'SAN MIGUEL',\n",
    "              'MORAZAN', 'LA UNION', \n",
    "                'AHUACHAPAN', 'SANTA ANA', 'SONSONATE', 'CHALATENANGO', \n",
    "               'LA LIBERTAD', 'SAN SALVADOR', 'CUSCATLAN', 'LA PAZ',\n",
    "              'CABAÑAS', 'SAN VICENTE', 'USULUTAN', 'SAN MIGUEL',\n",
    "              'MORAZAN', 'LA UNION'],\n",
    "        \n",
    "      color = ['#ff791c', '#854cef', '#3710f1', '#109df1', \n",
    "               '#fbec00', '#c21e86', '#42a62d', '#97cc31',\n",
    "               '#e6ee00', '#f9be00', '#f99200', '#f93a00',\n",
    "               '#f900df', '#a800ff', \n",
    "               '#ff791c', '#854cef', '#3710f1', '#109df1', \n",
    "               '#fbec00', '#c21e86', '#42a62d', '#97cc31',\n",
    "               '#e6ee00', '#f9be00', '#f99200', '#f93a00',\n",
    "               '#f900df', '#a800ff']\n",
    "    ),\n",
    "    link = dict(\n",
    "      source = df['source'].dropna(axis=0, how='any'),\n",
    "      target = df['target'].dropna(axis=0, how='any'),\n",
    "      value = df['count'].dropna(axis=0, how='any')\n",
    "  )\n",
    ")\n",
    "\n",
    "layout =  dict(\n",
    "    title = \"Departments of students and schools\",\n",
    "    height = 772,\n",
    "    font = dict(\n",
    "      size = 10\n",
    "    ),    \n",
    ")\n",
    "\n",
    "fig = dict(data=[data_trace], layout=layout)\n",
    "py.iplot(fig, validate=False)"
   ]
  },
  {
   "cell_type": "code",
   "execution_count": null,
   "metadata": {},
   "outputs": [],
   "source": [
    "count_students_dpto_diff = sql(\"\"\"\n",
    "    select dpto_name_student, dpto_name_ce, count(*)\n",
    "    from cleaned.students_labelled\n",
    "    group by dpto_name_student, dpto_name_ce\n",
    "    having (dpto_name_student != 'None') and (dpto_name_student != 'EXTRANJERO') and (dpto_name_student <> dpto_name_ce);\n",
    "\"\"\")"
   ]
  },
  {
   "cell_type": "code",
   "execution_count": null,
   "metadata": {},
   "outputs": [],
   "source": [
    "df = count_students_dpto_diff.copy()\n",
    "\n",
    "dptos = {'AHUACHAPAN': 1, 'SANTA ANA': 2, 'SONSONATE': 3, 'CHALATENANGO' : 4, \n",
    "           'LA LIBERTAD' : 5, 'SAN SALVADOR' : 6, 'CUSCATLAN' : 7, 'LA PAZ' : 8,\n",
    "          'CABAÑAS' : 9, 'SAN VICENTE' : 10, 'USULUTAN' : 11, 'SAN MIGUEL' : 12,\n",
    "          'MORAZAN' : 13, 'LA UNION' : 14}\n",
    "\n",
    "df[\"source\"] = df[\"dpto_name_student\"].map(dptos) - 1\n",
    "df[\"target\"] = (df[\"dpto_name_ce\"].map(dptos) - 1) + 14\n",
    "\n",
    "\n",
    "df.head()\n",
    "df.loc[df[\"dpto_name_student\"] == 'AHUACHAPAN']"
   ]
  },
  {
   "cell_type": "code",
   "execution_count": null,
   "metadata": {},
   "outputs": [],
   "source": [
    "data_trace = dict(\n",
    "    type = 'sankey',\n",
    "    domain = dict(\n",
    "      x =  [0,1],\n",
    "      y =  [0,1]\n",
    "    ),\n",
    "    orientation = \"h\",\n",
    "    valueformat = \".0f\",\n",
    "    node = dict(\n",
    "      pad = 10,\n",
    "      thickness = 30,\n",
    "      line = dict(\n",
    "        color = \"black\",\n",
    "        width = 0\n",
    "      ),\n",
    "      label =  ['AHUACHAPAN', 'SANTA ANA', 'SONSONATE', 'CHALATENANGO', \n",
    "               'LA LIBERTAD', 'SAN SALVADOR', 'CUSCATLAN', 'LA PAZ',\n",
    "              'CABAÑAS', 'SAN VICENTE', 'USULUTAN', 'SAN MIGUEL',\n",
    "              'MORAZAN', 'LA UNION', \n",
    "                'AHUACHAPAN', 'SANTA ANA', 'SONSONATE', 'CHALATENANGO', \n",
    "               'LA LIBERTAD', 'SAN SALVADOR', 'CUSCATLAN', 'LA PAZ',\n",
    "              'CABAÑAS', 'SAN VICENTE', 'USULUTAN', 'SAN MIGUEL',\n",
    "              'MORAZAN', 'LA UNION'],\n",
    "        \n",
    "      color = ['#ff791c', '#854cef', '#3710f1', '#109df1', \n",
    "               '#fbec00', '#c21e86', '#42a62d', '#97cc31',\n",
    "               '#e6ee00', '#f9be00', '#f99200', '#f93a00',\n",
    "               '#f900df', '#a800ff', \n",
    "               '#ff791c', '#854cef', '#3710f1', '#109df1', \n",
    "               '#fbec00', '#c21e86', '#42a62d', '#97cc31',\n",
    "               '#e6ee00', '#f9be00', '#f99200', '#f93a00',\n",
    "               '#f900df', '#a800ff']\n",
    "    ),\n",
    "    link = dict(\n",
    "      source = df['source'].dropna(axis=0, how='any'),\n",
    "      target = df['target'].dropna(axis=0, how='any'),\n",
    "      value = df['count'].dropna(axis=0, how='any')\n",
    "  )\n",
    ")\n",
    "\n",
    "layout =  dict(\n",
    "    title = \"Departments of students and schools\",\n",
    "    height = 772,\n",
    "    font = dict(\n",
    "      size = 10\n",
    "    ),    \n",
    ")\n",
    "\n",
    "fig = dict(data=[data_trace], layout=layout)\n",
    "py.iplot(fig, validate=False)"
   ]
  },
  {
   "cell_type": "code",
   "execution_count": null,
   "metadata": {},
   "outputs": [],
   "source": [
    "# Analyze those students that are travelling far away"
   ]
  },
  {
   "cell_type": "code",
   "execution_count": null,
   "metadata": {},
   "outputs": [],
   "source": [
    "students_far = sql(\"\"\"\n",
    "    select *\n",
    "    from cleaned.students_labelled\n",
    "    where (dpto_name_student = 'AHUACHAPAN') and (dpto_name_ce = 'LA UNION');\n",
    "\"\"\")\n",
    "students_far"
   ]
  },
  {
   "cell_type": "code",
   "execution_count": null,
   "metadata": {},
   "outputs": [],
   "source": [
    "sql(\"\"\"\n",
    "    select *\n",
    "    from cleaned.students_labelled\n",
    "    where nie = 1998058;\n",
    "\"\"\")\n"
   ]
  }
 ],
 "metadata": {
  "kernelspec": {
   "display_name": "Python 3",
   "language": "python",
   "name": "python3"
  },
  "language_info": {
   "codemirror_mode": {
    "name": "ipython",
    "version": 3
   },
   "file_extension": ".py",
   "mimetype": "text/x-python",
   "name": "python",
   "nbconvert_exporter": "python",
   "pygments_lexer": "ipython3",
   "version": "3.6.2"
  }
 },
 "nbformat": 4,
 "nbformat_minor": 2
}
