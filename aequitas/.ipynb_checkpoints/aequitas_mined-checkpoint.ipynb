{
 "cells": [
  {
   "cell_type": "code",
   "execution_count": null,
   "metadata": {},
   "outputs": [],
   "source": [
    "import pandas as pd\n",
    "import seaborn as sns\n",
    "from aequitas.group import Group\n",
    "from aequitas.bias import Bias\n",
    "from aequitas.fairness import Fairness\n",
    "from aequitas.plotting import Plot\n",
    "\n",
    "import warnings; warnings.simplefilter('ignore')\n",
    "from triage.component.catwalk.db import connect\n",
    "\n",
    "%matplotlib inline\n",
    "pd.options.display.max_columns = None"
   ]
  },
  {
   "cell_type": "code",
   "execution_count": null,
   "metadata": {},
   "outputs": [],
   "source": [
    "query = \"select entity_id::text, score::float4, label_value::int, model_id::int, gender::text, rural::text, ovg_bool::text from (select * from test_results.predictions where model_id = 303) as pred_303 left join (select max(ovg_bool) as ovg_bool, entity_id as ovg_id from features.overage_from_obj where event_date = to_date('20160101', 'YYYYMMDD') group by entity_id) as ovg on entity_id = ovg_id left join (select max(gender) as gender, entity_id as gen_id from features.gender_from_obj where event_date = to_date('20160101', 'YYYYMMDD') group by entity_id) as gen on entity_id = gen_id left join (select case when max(rural) = 'rural' then 'rural' when max(rural) LIKE 'urban_' then 'urban' else 'unknown' end as rural, entity_id as rur_id from features.rural_from_obj where event_date = to_date('20160101', 'YYYYMMDD') group by entity_id) as rur on entity_id = rur_id\"\n",
    "\n",
    "engine = connect()\n",
    "model_info = engine.execute(query)\n",
    "data = model_info.fetchall()\n",
    "    "
   ]
  },
  {
   "cell_type": "code",
   "execution_count": null,
   "metadata": {},
   "outputs": [],
   "source": [
    "df = pd.DataFrame(data)\n",
    "df.head()"
   ]
  },
  {
   "cell_type": "markdown",
   "metadata": {},
   "source": [
    "Get Crosstabs"
   ]
  },
  {
   "cell_type": "code",
   "execution_count": null,
   "metadata": {},
   "outputs": [],
   "source": [
    "df.rename(index=str, columns = {0:'entity_id', 1: 'score', 2: 'label_value', 3: 'model_id', \n",
    "                                4: 'gender', 5: 'rural', 6: 'ovg_bool'}, inplace = True)"
   ]
  },
  {
   "cell_type": "code",
   "execution_count": null,
   "metadata": {},
   "outputs": [],
   "source": [
    "df['gender'] = df['gender'].astype(str)\n",
    "df['rural'] = df['rural'].astype(str)\n",
    "df['ovg_bool'] = df['ovg_bool'].astype(str)"
   ]
  },
  {
   "cell_type": "code",
   "execution_count": null,
   "metadata": {},
   "outputs": [],
   "source": [
    "df.to_csv('aequitas_test.csv', index=False)"
   ]
  },
  {
   "cell_type": "code",
   "execution_count": null,
   "metadata": {},
   "outputs": [],
   "source": [
    "df.head()"
   ]
  },
  {
   "cell_type": "code",
   "execution_count": null,
   "metadata": {},
   "outputs": [],
   "source": [
    "df.dtypes"
   ]
  },
  {
   "cell_type": "code",
   "execution_count": null,
   "metadata": {},
   "outputs": [],
   "source": [
    "df.shape"
   ]
  },
  {
   "cell_type": "code",
   "execution_count": null,
   "metadata": {},
   "outputs": [],
   "source": [
    "g = Group()\n",
    "xtab, _ = g.get_crosstabs(df, {'rank_pct':[.1]})"
   ]
  },
  {
   "cell_type": "code",
   "execution_count": null,
   "metadata": {},
   "outputs": [],
   "source": [
    "xtab"
   ]
  },
  {
   "cell_type": "code",
   "execution_count": null,
   "metadata": {},
   "outputs": [],
   "source": [
    "absolute_metrics = g.list_absolute_metrics(xtab)\n",
    "xtab[[col for col in xtab.columns if col not in absolute_metrics]]"
   ]
  },
  {
   "cell_type": "code",
   "execution_count": null,
   "metadata": {},
   "outputs": [],
   "source": [
    "xtab[['attribute_name', 'attribute_value'] + absolute_metrics].round(2)"
   ]
  },
  {
   "cell_type": "code",
   "execution_count": null,
   "metadata": {},
   "outputs": [],
   "source": [
    "aqp = Plot()\n"
   ]
  },
  {
   "cell_type": "code",
   "execution_count": null,
   "metadata": {},
   "outputs": [],
   "source": [
    "fnr = aqp.plot_group_metric(xtab, 'fnr')\n"
   ]
  },
  {
   "cell_type": "code",
   "execution_count": null,
   "metadata": {},
   "outputs": [],
   "source": []
  },
  {
   "cell_type": "code",
   "execution_count": null,
   "metadata": {},
   "outputs": [],
   "source": [
    "p = aqp.plot_group_metric_all(xtab, metrics=['ppr','pprev','fnr','fpr'], ncols=4)\n"
   ]
  },
  {
   "cell_type": "code",
   "execution_count": null,
   "metadata": {},
   "outputs": [],
   "source": [
    "p.savefig('metric_all.png')"
   ]
  },
  {
   "cell_type": "code",
   "execution_count": null,
   "metadata": {},
   "outputs": [],
   "source": [
    "b = Bias()\n",
    "bdf = b.get_disparity_predefined_groups(xtab, original_df=df, ref_groups_dict={'rural':'urban', 'gender':'m', 'ovg_bool':'0'}, alpha=0.05, mask_significance=False)\n",
    "calculated_disparities = b.list_disparities(bdf)\n",
    "disparity_significance = b.list_significance(bdf)\n",
    "bdf[['attribute_name', 'attribute_value'] +  calculated_disparities + disparity_significance]"
   ]
  },
  {
   "cell_type": "code",
   "execution_count": null,
   "metadata": {},
   "outputs": [],
   "source": [
    "disparity_significance"
   ]
  },
  {
   "cell_type": "markdown",
   "metadata": {},
   "source": [
    "### Model 292"
   ]
  },
  {
   "cell_type": "code",
   "execution_count": null,
   "metadata": {},
   "outputs": [],
   "source": []
  },
  {
   "cell_type": "code",
   "execution_count": null,
   "metadata": {},
   "outputs": [],
   "source": [
    "query = \"select entity_id::text, score::float4, label_value::int, model_id::int, gender::text, rural::text, ovg_bool::text from (select * from test_results.predictions where model_id = 292) as pred_292 left join (select max(ovg_bool) as ovg_bool, entity_id as ovg_id from features.overage_from_obj where event_date = to_date('20160101', 'YYYYMMDD') group by entity_id) as ovg on entity_id = ovg_id left join (select max(gender) as gender, entity_id as gen_id from features.gender_from_obj where event_date = to_date('20160101', 'YYYYMMDD') group by entity_id) as gen on entity_id = gen_id left join (select case when max(rural) = 'rural' then 'rural' when max(rural) LIKE 'urban_' then 'urban' else 'unknown' end as rural, entity_id as rur_id from features.rural_from_obj where event_date = to_date('20160101', 'YYYYMMDD') group by entity_id) as rur on entity_id = rur_id\"\n",
    "\n",
    "engine = connect()\n",
    "model_info = engine.execute(query)\n",
    "data = model_info.fetchall()\n",
    "    \n",
    "\n",
    "df = pd.DataFrame(data)\n",
    "df.rename(index=str, columns = {0:'entity_id', 1: 'score', 2: 'label_value', 3: 'model_id', \n",
    "                                4: 'gender', 5: 'rural', 6: 'ovg_bool'}, inplace = True)\n",
    "\n",
    "df['gender'] = df['gender'].astype(str)\n",
    "df['rural'] = df['rural'].astype(str)\n",
    "df['ovg_bool'] = df['ovg_bool'].astype(str)"
   ]
  },
  {
   "cell_type": "code",
   "execution_count": null,
   "metadata": {},
   "outputs": [],
   "source": [
    "g = Group()\n",
    "xtab, _ = g.get_crosstabs(df, {'rank_pct':[.1]})\n",
    "\n",
    "xtab\n",
    "\n"
   ]
  },
  {
   "cell_type": "code",
   "execution_count": null,
   "metadata": {},
   "outputs": [],
   "source": [
    "absolute_metrics = g.list_absolute_metrics(xtab)\n",
    "xtab[[col for col in xtab.columns if col not in absolute_metrics]]\n",
    "\n",
    "xtab[['attribute_name', 'attribute_value'] + absolute_metrics].round(2)"
   ]
  },
  {
   "cell_type": "code",
   "execution_count": null,
   "metadata": {},
   "outputs": [],
   "source": [
    "b = Bias()\n",
    "bdf = b.get_disparity_predefined_groups(xtab, original_df=df, ref_groups_dict={'rural':'urban', 'gender':'m', 'ovg_bool':'0'}, alpha=0.05, mask_significance=False)\n",
    "calculated_disparities = b.list_disparities(bdf)\n",
    "disparity_significance = b.list_significance(bdf)\n",
    "bdf[['attribute_name', 'attribute_value'] +  calculated_disparities + disparity_significance]"
   ]
  },
  {
   "cell_type": "markdown",
   "metadata": {},
   "source": [
    "### Model 160"
   ]
  },
  {
   "cell_type": "code",
   "execution_count": null,
   "metadata": {},
   "outputs": [],
   "source": [
    "query = \"select entity_id::text, score::float4, label_value::int, model_id::int, gender::text, rural::text, ovg_bool::text from (select * from test_results.predictions where model_id = 160) as pred_160 left join (select max(ovg_bool) as ovg_bool, entity_id as ovg_id from features.overage_from_obj where event_date = to_date('20160101', 'YYYYMMDD') group by entity_id) as ovg on entity_id = ovg_id left join (select max(gender) as gender, entity_id as gen_id from features.gender_from_obj where event_date = to_date('20160101', 'YYYYMMDD') group by entity_id) as gen on entity_id = gen_id left join (select case when max(rural) = 'rural' then 'rural' when max(rural) LIKE 'urban_' then 'urban' else 'unknown' end as rural, entity_id as rur_id from features.rural_from_obj where event_date = to_date('20160101', 'YYYYMMDD') group by entity_id) as rur on entity_id = rur_id\"\n",
    "\n",
    "engine = connect()\n",
    "model_info = engine.execute(query)\n",
    "data = model_info.fetchall()\n",
    "    \n",
    "\n",
    "df = pd.DataFrame(data)\n",
    "df.rename(index=str, columns = {0:'entity_id', 1: 'score', 2: 'label_value', 3: 'model_id', \n",
    "                                4: 'gender', 5: 'rural', 6: 'ovg_bool'}, inplace = True)\n",
    "\n",
    "df['gender'] = df['gender'].astype(str)\n",
    "df['rural'] = df['rural'].astype(str)\n",
    "df['ovg_bool'] = df['ovg_bool'].astype(str)"
   ]
  },
  {
   "cell_type": "code",
   "execution_count": null,
   "metadata": {},
   "outputs": [],
   "source": [
    "g = Group()\n",
    "xtab, _ = g.get_crosstabs(df, {'rank_pct':[.1]})\n",
    "\n",
    "xtab\n"
   ]
  },
  {
   "cell_type": "code",
   "execution_count": null,
   "metadata": {},
   "outputs": [],
   "source": [
    "g = Group()\n",
    "xtab, _ = g.get_crosstabs(df, {'rank_pct':[10]})\n",
    "\n",
    "xtab\n"
   ]
  },
  {
   "cell_type": "code",
   "execution_count": null,
   "metadata": {},
   "outputs": [],
   "source": [
    "absolute_metrics = g.list_absolute_metrics(xtab)\n",
    "xtab[[col for col in xtab.columns if col not in absolute_metrics]]\n",
    "\n",
    "xtab[['attribute_name', 'attribute_value'] + absolute_metrics].round(2)"
   ]
  },
  {
   "cell_type": "code",
   "execution_count": null,
   "metadata": {},
   "outputs": [],
   "source": [
    "b = Bias()\n",
    "bdf = b.get_disparity_predefined_groups(xtab, original_df=df, ref_groups_dict={'rural':'urban', 'gender':'m', 'ovg_bool':'0'}, alpha=0.05, mask_significance=False)\n",
    "calculated_disparities = b.list_disparities(bdf)\n",
    "disparity_significance = b.list_significance(bdf)\n",
    "bdf[['attribute_name', 'attribute_value'] +  calculated_disparities + disparity_significance]"
   ]
  },
  {
   "cell_type": "markdown",
   "metadata": {},
   "source": [
    "### Model 34 (baseline)"
   ]
  },
  {
   "cell_type": "code",
   "execution_count": null,
   "metadata": {},
   "outputs": [],
   "source": [
    "query = \"select entity_id::text, score::float4, label_value::int, model_id::int, gender::text, rural::text, ovg_bool::text from (select * from test_results.predictions where model_id = 34) as pred_34 left join (select max(ovg_bool) as ovg_bool, entity_id as ovg_id from features.overage_from_obj where event_date = to_date('20160101', 'YYYYMMDD') group by entity_id) as ovg on entity_id = ovg_id left join (select max(gender) as gender, entity_id as gen_id from features.gender_from_obj where event_date = to_date('20160101', 'YYYYMMDD') group by entity_id) as gen on entity_id = gen_id left join (select case when max(rural) = 'rural' then 'rural' when max(rural) LIKE 'urban_' then 'urban' else 'unknown' end as rural, entity_id as rur_id from features.rural_from_obj where event_date = to_date('20160101', 'YYYYMMDD') group by entity_id) as rur on entity_id = rur_id\"\n",
    "\n",
    "engine = connect()\n",
    "model_info = engine.execute(query)\n",
    "data = model_info.fetchall()\n",
    "    \n",
    "\n",
    "df = pd.DataFrame(data)\n",
    "df.rename(index=str, columns = {0:'entity_id', 1: 'score', 2: 'label_value', 3: 'model_id', \n",
    "                                4: 'gender', 5: 'rural', 6: 'ovg_bool'}, inplace = True)\n",
    "\n",
    "df['gender'] = df['gender'].astype(str)\n",
    "df['rural'] = df['rural'].astype(str)\n",
    "df['ovg_bool'] = df['ovg_bool'].astype(str)"
   ]
  },
  {
   "cell_type": "code",
   "execution_count": null,
   "metadata": {},
   "outputs": [],
   "source": [
    "g = Group()\n",
    "xtab, _ = g.get_crosstabs(df, {'rank_pct':[.1]})\n",
    "\n",
    "xtab\n"
   ]
  },
  {
   "cell_type": "code",
   "execution_count": null,
   "metadata": {},
   "outputs": [],
   "source": [
    "absolute_metrics = g.list_absolute_metrics(xtab)\n",
    "xtab[[col for col in xtab.columns if col not in absolute_metrics]]\n",
    "\n",
    "xtab[['attribute_name', 'attribute_value'] + absolute_metrics].round(2)"
   ]
  },
  {
   "cell_type": "code",
   "execution_count": null,
   "metadata": {},
   "outputs": [],
   "source": [
    "b = Bias()\n",
    "bdf = b.get_disparity_predefined_groups(xtab, original_df=df, ref_groups_dict={'rural':'urban', 'gender':'m', 'ovg_bool':'0'}, alpha=0.05, mask_significance=False)\n",
    "calculated_disparities = b.list_disparities(bdf)\n",
    "disparity_significance = b.list_significance(bdf)\n",
    "bdf[['attribute_name', 'attribute_value'] +  calculated_disparities + disparity_significance]"
   ]
  },
  {
   "cell_type": "markdown",
   "metadata": {},
   "source": []
  }
 ],
 "metadata": {
  "kernelspec": {
   "display_name": "Python 3",
   "language": "python",
   "name": "python3"
  },
  "language_info": {
   "codemirror_mode": {
    "name": "ipython",
    "version": 3
   },
   "file_extension": ".py",
   "mimetype": "text/x-python",
   "name": "python",
   "nbconvert_exporter": "python",
   "pygments_lexer": "ipython3",
   "version": "3.6.2"
  }
 },
 "nbformat": 4,
 "nbformat_minor": 2
}
