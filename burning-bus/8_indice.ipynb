{
 "cells": [
  {
   "cell_type": "code",
   "execution_count": null,
   "metadata": {},
   "outputs": [],
   "source": [
    "%config IPCompleter.greedy=True\n",
    "\n",
    "import yaml\n",
    "import psycopg2\n",
    "import os\n",
    "import os.path\n",
    "import sys\n",
    "\n",
    "# Set the path\n",
    "home_dir = os.getcwd()\n",
    "credential_dir = os.path.join('../../config')\n",
    "\n",
    "def create_pgconn(credentials_yaml):\n",
    "    with open(credentials_yaml) as f:\n",
    "        configs = yaml.load(f)\n",
    "    try: \n",
    "        conn = psycopg2.connect(\"dbname='{}' user='{}' host='{}' password='{}'\".format(\n",
    "            configs['DB_name'],\n",
    "            configs['user'],\n",
    "            configs['host'],\n",
    "            configs['password']))\n",
    "    except Exception as e: \n",
    "        print(\"Error connecting to db.\")\n",
    "        raise e\n",
    "    conn.set_client_encoding('latin_1')\n",
    "    cur = conn.cursor()\n",
    "    cur.execute(\"SET ROLE \" + configs['role'])\n",
    "    return conn"
   ]
  },
  {
   "cell_type": "code",
   "execution_count": null,
   "metadata": {},
   "outputs": [],
   "source": [
    "# Setting up a connection to the server\n",
    "\n",
    "credentials_yaml = os.path.join(credential_dir, 'db_creds.yml') #example file on hitchikers repo\n",
    "conn = create_pgconn(credentials_yaml)\n",
    "\n",
    "def sql(query, conn=conn):\n",
    "    return pd.read_sql(query, conn)"
   ]
  },
  {
   "cell_type": "code",
   "execution_count": null,
   "metadata": {
    "scrolled": true
   },
   "outputs": [],
   "source": [
    "# To rename columns, you need to find out the unique column names in the original files\n",
    "cur = conn.cursor()\n",
    "cur.execute(\"\"\"select distinct(orginal_col_name) from raw.column_mapping where table_name ~ 'raw.\"8.*';\"\"\")\n",
    "[print(x[0][1:-1]) for x in cur.fetchall()];"
   ]
  },
  {
   "cell_type": "code",
   "execution_count": null,
   "metadata": {},
   "outputs": [],
   "source": [
    "# Using the manually created 6_column_mapping.csv, a dictionary of old column name to new column name can be created\n",
    "with open('../../../../garfield/8_column_mapping.csv', 'r') as fil:\n",
    "    col_map = fil.read()\n",
    "col_names=dict()\n",
    "col_types=dict()\n",
    "union = []\n",
    "for pair in col_map.split('\\n'):\n",
    "    split_pair = pair.split(',')\n",
    "    if split_pair[1] != '':\n",
    "        col_names[split_pair[0]] = split_pair[1]\n",
    "        if split_pair[2] != '':\n",
    "            col_types[split_pair[1]] = split_pair[2]\n",
    "        union += [split_pair[1]]\n",
    "union=set(union).difference(set(['']))"
   ]
  },
  {
   "cell_type": "code",
   "execution_count": null,
   "metadata": {},
   "outputs": [],
   "source": [
    "# This creates a list of tables that we can iterate over to rename columns and join\n",
    "cur = conn.cursor()\n",
    "cur.execute(\"\"\"select distinct(table_name) from raw.column_mapping where table_name ~ 'raw.\"8.*';\"\"\")\n",
    "table_list = [x[0] for x in cur.fetchall()]"
   ]
  },
  {
   "cell_type": "code",
   "execution_count": null,
   "metadata": {
    "scrolled": true
   },
   "outputs": [],
   "source": [
    "cur = conn.cursor()\n",
    "for table in table_list:\n",
    "    cur.execute(\"\"\"drop table if exists %s\"\"\" %table)\n",
    "conn.commit()"
   ]
  },
  {
   "cell_type": "markdown",
   "metadata": {},
   "source": [
    "# Preprocessing"
   ]
  },
  {
   "cell_type": "markdown",
   "metadata": {},
   "source": [
    "## Each file renamed columns"
   ]
  },
  {
   "cell_type": "code",
   "execution_count": null,
   "metadata": {},
   "outputs": [],
   "source": [
    "cur = conn.cursor()\n",
    "cmnd = ' varchar, '.join(union) + ' varchar'  # This creates a list of column names that will be used in the joined table\n",
    "cur.execute(\"\"\"drop table if exists preproc.\"8_joined\";\"\"\")\n",
    "cur.execute(\"\"\"create table if not exists preproc.\"8_joined\" (%s);\"\"\" %cmnd)\n",
    "conn.commit()"
   ]
  },
  {
   "cell_type": "code",
   "execution_count": null,
   "metadata": {
    "scrolled": true
   },
   "outputs": [],
   "source": [
    "# Iterates over all tables in raw (with columns a0, a1, a2...), inserting into a joined preprocessing table (with columns nie, dpto_code_ce, year...)\n",
    "cur = conn.cursor()\n",
    "for table in table_list:\n",
    "    print(table)\n",
    "#     new_table = table.replace('raw', 'preproc')\n",
    "    cur.execute(\"\"\"select mapped_col_name, orginal_col_name from raw.column_mapping where table_name='%s' order by mapped_col_name;\"\"\" %table)\n",
    "    col_pairs = cur.fetchall()\n",
    "    raw_cols = []\n",
    "    renamed_cols = []\n",
    "    for col_pair in col_pairs:\n",
    "        new_name=col_pair[1].replace('\"', '')\n",
    "        if new_name in col_names:\n",
    "            if col_names[new_name] != '':\n",
    "                raw_cols += [col_pair[0]]\n",
    "                renamed_cols += [col_names[new_name]]\n",
    "    cmnd = ' varchar, '.join(renamed_cols) + ' varchar'\n",
    "    if len(renamed_cols) > 0:\n",
    "        cur.execute(\"\"\"insert into preproc.\"8_joined\" (%s) select %s from %s;\"\"\" %(','.join(renamed_cols), ','.join(raw_cols), table))\n",
    "conn.commit()"
   ]
  },
  {
   "cell_type": "code",
   "execution_count": null,
   "metadata": {
    "scrolled": true
   },
   "outputs": [],
   "source": [
    "# Changing the column types and removing empty strings\n",
    "cur = conn.cursor()\n",
    "for col in union:\n",
    "    print(col)\n",
    "    if col in col_types:\n",
    "        cur.execute(\"\"\"ALTER TABLE preproc.\"8_joined\" ALTER COLUMN %s TYPE %s using NULLIF(%s, '')::%s;\"\"\" %(col, col_types[col], col, col_types[col]))\n",
    "    else:\n",
    "        cur.execute(\"\"\"ALTER TABLE preproc.\"8_joined\" ALTER COLUMN %s TYPE varchar using NULLIF(%s, '')::varchar;\"\"\" %(col, col))\n",
    "conn.commit()"
   ]
  },
  {
   "cell_type": "code",
   "execution_count": null,
   "metadata": {
    "scrolled": true
   },
   "outputs": [],
   "source": []
  },
  {
   "cell_type": "code",
   "execution_count": null,
   "metadata": {},
   "outputs": [],
   "source": []
  },
  {
   "cell_type": "code",
   "execution_count": null,
   "metadata": {},
   "outputs": [],
   "source": []
  }
 ],
 "metadata": {
  "kernelspec": {
   "display_name": "Python 3",
   "language": "python",
   "name": "python3"
  },
  "language_info": {
   "codemirror_mode": {
    "name": "ipython",
    "version": 3
   },
   "file_extension": ".py",
   "mimetype": "text/x-python",
   "name": "python",
   "nbconvert_exporter": "python",
   "pygments_lexer": "ipython3",
   "version": "3.6.2"
  }
 },
 "nbformat": 4,
 "nbformat_minor": 2
}
