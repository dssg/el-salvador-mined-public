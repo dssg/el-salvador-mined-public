{
 "cells": [
  {
   "cell_type": "code",
   "execution_count": null,
   "metadata": {},
   "outputs": [],
   "source": [
    "import yaml\n",
    "import psycopg2\n",
    "import os\n",
    "import os.path\n",
    "import matplotlib.pyplot as plt\n",
    "\n",
    "# Set the path\n",
    "home_dir = os.getcwd()\n",
    "credential_dir = os.path.join('../config')\n",
    "\n",
    "def create_pgconn(credentials_yaml):\n",
    "    with open(credentials_yaml) as f:\n",
    "        configs = yaml.load(f)\n",
    "    try: \n",
    "        conn = psycopg2.connect(\"dbname='{}' user='{}' host='{}' password='{}'\".format(\n",
    "            configs['DB_name'],\n",
    "            configs['user'],\n",
    "            configs['host'],\n",
    "            configs['password']))\n",
    "    except Exception as e: \n",
    "        print(\"Error connecting to db.\")\n",
    "        raise e\n",
    "    cur = conn.cursor()\n",
    "    cur.execute(\"SET ROLE \" + configs['role'])\n",
    "    return conn"
   ]
  },
  {
   "cell_type": "code",
   "execution_count": null,
   "metadata": {},
   "outputs": [],
   "source": [
    "home_dir = os.getcwd()\n",
    "credential_dir = os.path.join('../config')\n",
    "credentials_yaml = os.path.join(credential_dir, 'db_creds.yml') #example file on hitchikers repo\n",
    "conn = create_pgconn(credentials_yaml)"
   ]
  },
  {
   "cell_type": "code",
   "execution_count": null,
   "metadata": {},
   "outputs": [],
   "source": [
    "# Total number of events per student\n",
    "cur = conn.cursor()\n",
    "cur.execute(\"\"\"with events_per_student as (select count(*), entity from cleaned.events group by entity)\n",
    "select width_bucket(count, 1, 42, 42) as buckets,\n",
    "         count(*)\n",
    "    from events_per_student\n",
    "group by buckets\n",
    "order by buckets;\"\"\")\n",
    "data = cur.fetchall()\n",
    "x = [x[0] for x in data]\n",
    "y = [x[1] for x in data]\n",
    "plt.plot(x, y, '.');\n",
    "plt.xlabel('# events');\n",
    "plt.ylabel('# students');"
   ]
  },
  {
   "cell_type": "code",
   "execution_count": null,
   "metadata": {},
   "outputs": [],
   "source": [
    "# Number female, male and total students per year\n",
    "cur = conn.cursor()\n",
    "cur.execute(\"\"\"with distinct_per_year as (select distinct year, id from preproc.\"6_cleaned\")\n",
    "select count(*), year from distinct_per_year group by year order by year;\"\"\")\n",
    "data = cur.fetchall()\n",
    "x = [x[1] for x in data]\n",
    "y_t = [x[0] for x in data]\n",
    "cur.execute(\"\"\"with distinct_per_year as (select distinct year, id from preproc.\"6_cleaned\" where gender='F')\n",
    "select count(*), year from distinct_per_year group by year order by year;\"\"\")\n",
    "data = cur.fetchall()\n",
    "x = [x[1] for x in data]\n",
    "y_f = [x[0] for x in data]\n",
    "cur.execute(\"\"\"with distinct_per_year as (select distinct year, id from preproc.\"6_cleaned\" where gender='M')\n",
    "select count(*), year from distinct_per_year group by year order by year;\"\"\")\n",
    "data = cur.fetchall()\n",
    "x = [x[1] for x in data]\n",
    "y_m = [x[0] for x in data]\n",
    "plt.plot(x, y_t, label='total');\n",
    "plt.plot(x, y_f, label='female');\n",
    "plt.plot(x, y_m, label='male');\n",
    "plt.legend();\n",
    "plt.ylabel('# students');\n",
    "plt.xlabel('year');"
   ]
  },
  {
   "cell_type": "code",
   "execution_count": null,
   "metadata": {},
   "outputs": [],
   "source": []
  }
 ],
 "metadata": {
  "kernelspec": {
   "display_name": "Python 3",
   "language": "python",
   "name": "python3"
  },
  "language_info": {
   "codemirror_mode": {
    "name": "ipython",
    "version": 3
   },
   "file_extension": ".py",
   "mimetype": "text/x-python",
   "name": "python",
   "nbconvert_exporter": "python",
   "pygments_lexer": "ipython3",
   "version": "3.6.2"
  }
 },
 "nbformat": 4,
 "nbformat_minor": 2
}
