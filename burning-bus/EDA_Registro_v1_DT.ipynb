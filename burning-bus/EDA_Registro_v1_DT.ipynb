{
 "cells": [
  {
   "cell_type": "code",
   "execution_count": null,
   "metadata": {},
   "outputs": [],
   "source": [
    "import yaml\n",
    "import psycopg2\n",
    "\n",
    "from postgres_connection import pg_connect"
   ]
  },
  {
   "cell_type": "markdown",
   "metadata": {},
   "source": [
    "### Connecting to PG"
   ]
  },
  {
   "cell_type": "code",
   "execution_count": null,
   "metadata": {},
   "outputs": [],
   "source": [
    "loading_yml = '/mnt/data/projects/el_salvador_mined_education/dhany/El_Salvador_mined_education/config/eda_6.yml'\n",
    "    \n",
    "with open(loading_yml, 'r') as yml:\n",
    "    yml_dict = yaml.load(yml)\n",
    "\n",
    "with open('/mnt/data/projects/el_salvador_mined_education/dhany/El_Salvador_mined_education/config/dhany.yml', 'r') as yml:\n",
    "    user_dict = yaml.load(yml)\n",
    "\n",
    "## variables for sql statements\n",
    "un = user_dict['username']\n",
    "pw = user_dict['pw']\n",
    "schema = yml_dict['schema_name']\n",
    "\n",
    "cursor, connection = pg_connect(un, pw)"
   ]
  },
  {
   "cell_type": "code",
   "execution_count": null,
   "metadata": {},
   "outputs": [],
   "source": [
    "# change role to read\n",
    "cursor.execute('set role el_salvador_mined_education_read;')"
   ]
  },
  {
   "cell_type": "markdown",
   "metadata": {},
   "source": [
    "### Series of queries that need to be run"
   ]
  },
  {
   "cell_type": "code",
   "execution_count": null,
   "metadata": {},
   "outputs": [],
   "source": [
    "q1 = \"SELECT year FROM cleaned.student_labelled limit 10\""
   ]
  },
  {
   "cell_type": "code",
   "execution_count": null,
   "metadata": {},
   "outputs": [],
   "source": [
    "cursor.execute(q1)"
   ]
  },
  {
   "cell_type": "code",
   "execution_count": null,
   "metadata": {},
   "outputs": [],
   "source": [
    "cursor.fetchall()"
   ]
  },
  {
   "cell_type": "code",
   "execution_count": null,
   "metadata": {},
   "outputs": [],
   "source": [
    "connection.rollback()"
   ]
  },
  {
   "cell_type": "code",
   "execution_count": null,
   "metadata": {},
   "outputs": [],
   "source": []
  }
 ],
 "metadata": {
  "kernelspec": {
   "display_name": "Python 3",
   "language": "python",
   "name": "python3"
  },
  "language_info": {
   "codemirror_mode": {
    "name": "ipython",
    "version": 3
   },
   "file_extension": ".py",
   "mimetype": "text/x-python",
   "name": "python",
   "nbconvert_exporter": "python",
   "pygments_lexer": "ipython3",
   "version": "3.6.2"
  }
 },
 "nbformat": 4,
 "nbformat_minor": 2
}
