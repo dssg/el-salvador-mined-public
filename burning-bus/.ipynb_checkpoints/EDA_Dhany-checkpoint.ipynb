{
 "cells": [
  {
   "cell_type": "code",
   "execution_count": null,
   "metadata": {},
   "outputs": [],
   "source": [
    "import yaml\n",
    "import psycopg2\n",
    "import os\n",
    "import os.path\n",
    "import matplotlib.pyplot as plt\n",
    "import seaborn as sb\n",
    "import pandas as pd\n",
    "import numpy as np"
   ]
  },
  {
   "cell_type": "code",
   "execution_count": null,
   "metadata": {},
   "outputs": [],
   "source": [
    "def pg_connect(credentials_yaml, db='<db_name>', hn='<host_name>', p='<port_name>', sslmode='require'):\n",
    "    with open(credentials_yaml) as f:\n",
    "        configs = yaml.load(f)\n",
    "        \n",
    "    un = configs['username']\n",
    "    pw = configs['pw']\n",
    "        \n",
    "    try:\n",
    "        conn = psycopg2.connect(dbname=db,\n",
    "                        user=un,\n",
    "                        password=pw,\n",
    "                        host=hn,\n",
    "                        port=p,\n",
    "                        sslmode='require')\n",
    "    except Exception as e:\n",
    "        print(\"Error connecting to db.\")\n",
    "        raise e\n",
    "    #conn.set_client_encoding('latin_1')\n",
    "    cur = conn.cursor()\n",
    "    cur.execute('set role el_salvador_mined_education_write;')\n",
    "    return cur, conn"
   ]
  },
  {
   "cell_type": "code",
   "execution_count": null,
   "metadata": {},
   "outputs": [],
   "source": [
    "home_dir = os.getcwd()\n",
    "credential_dir = os.path.join('../config')\n",
    "credentials_yaml = os.path.join(credential_dir, 'dhany.yml') # changed to dhany's yml\n",
    "cur, conn = pg_connect(credentials_yaml)"
   ]
  },
  {
   "cell_type": "code",
   "execution_count": null,
   "metadata": {},
   "outputs": [],
   "source": [
    "## Uses GRADO_CODE\n",
    "cur.execute(\"\"\"\n",
    "select distinct(year), count(distinct(entity)) as student_count, grado_code\n",
    "from cleaned.events\n",
    "group by year, grado_code\n",
    "order by grado_code asc,\n",
    "year asc;\n",
    "\"\"\")\n",
    "data = cur.fetchall()"
   ]
  },
  {
   "cell_type": "code",
   "execution_count": null,
   "metadata": {},
   "outputs": [],
   "source": [
    "## Legend for GRADO_CODE to GRADO mapping\n",
    "cur.execute(\"\"\"\n",
    "select distinct(grado), grado_code\n",
    "from cleaned.events\n",
    "group by grado, grado_code\n",
    "order by grado_code asc;\n",
    "\"\"\")\n",
    "\n",
    "legend = cur.fetchall()"
   ]
  },
  {
   "cell_type": "code",
   "execution_count": null,
   "metadata": {},
   "outputs": [],
   "source": [
    "## Preview data using grado_code\n",
    "data[0:10]"
   ]
  },
  {
   "cell_type": "code",
   "execution_count": null,
   "metadata": {},
   "outputs": [],
   "source": [
    "## Calculate average of each grade over the last 10 years\n",
    "from collections import defaultdict\n",
    "from statistics import mean\n",
    "from decimal import *\n",
    "\n",
    "calc_avg_dict = defaultdict(list)\n",
    "for i in data:\n",
    "    calc_avg_dict[i[2]].append(i[1])\n",
    "\n",
    "avg_list = [[k, round(Decimal(mean(v)), 2)] for k, v in calc_avg_dict.items()]"
   ]
  },
  {
   "cell_type": "code",
   "execution_count": null,
   "metadata": {},
   "outputs": [],
   "source": [
    "df = pd.DataFrame(avg_list)\n",
    "col = [i[0] for i in avg_list]"
   ]
  },
  {
   "cell_type": "code",
   "execution_count": null,
   "metadata": {},
   "outputs": [],
   "source": [
    "avg_list"
   ]
  },
  {
   "cell_type": "code",
   "execution_count": null,
   "metadata": {
    "scrolled": true
   },
   "outputs": [],
   "source": [
    "df.plot.bar()\n",
    "plt.xlim(-1, 15)\n",
    "plt.xticks(np.arange(16), col)\n",
    "plt.show()"
   ]
  },
  {
   "cell_type": "code",
   "execution_count": null,
   "metadata": {},
   "outputs": [],
   "source": [
    "## Define x, y, z lists\n",
    "X = [i[0] for i in data] # Years, needs to be columns\n",
    "Y = [i[1] for i in data] # count students\n",
    "Z = [i[2] for i in data] # Grado code, needs to be index"
   ]
  },
  {
   "cell_type": "code",
   "execution_count": null,
   "metadata": {},
   "outputs": [],
   "source": [
    "from matplotlib import rcParams\n",
    "rcParams['figure.figsize'] = (18, 16)"
   ]
  },
  {
   "cell_type": "code",
   "execution_count": null,
   "metadata": {},
   "outputs": [],
   "source": [
    "%matplotlib inline\n",
    "df = pd.DataFrame(np.column_stack((Y,Z)), index = X, columns = ['grado', 'year'])\n",
    "\n",
    "plt.figure(figsize=(30,20))\n",
    "\n",
    "df.plot.bar()\n",
    "plt.show()"
   ]
  },
  {
   "cell_type": "code",
   "execution_count": null,
   "metadata": {},
   "outputs": [],
   "source": [
    "## Create plots\n",
    "plot = sb.countplot(x = X, hue = Z, data = df, orient = 'v', palette = \"Accent\")"
   ]
  },
  {
   "cell_type": "code",
   "execution_count": null,
   "metadata": {},
   "outputs": [],
   "source": [
    "import numpy as np\n",
    "np.arange(5)"
   ]
  },
  {
   "cell_type": "code",
   "execution_count": null,
   "metadata": {},
   "outputs": [],
   "source": []
  }
 ],
 "metadata": {
  "kernelspec": {
   "display_name": "Python 3",
   "language": "python",
   "name": "python3"
  },
  "language_info": {
   "codemirror_mode": {
    "name": "ipython",
    "version": 3
   },
   "file_extension": ".py",
   "mimetype": "text/x-python",
   "name": "python",
   "nbconvert_exporter": "python",
   "pygments_lexer": "ipython3",
   "version": "3.6.2"
  }
 },
 "nbformat": 4,
 "nbformat_minor": 2
}
