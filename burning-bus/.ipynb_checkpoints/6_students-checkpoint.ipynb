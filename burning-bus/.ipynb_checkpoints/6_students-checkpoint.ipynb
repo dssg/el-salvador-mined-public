{
 "cells": [
  {
   "cell_type": "code",
   "execution_count": null,
   "metadata": {},
   "outputs": [],
   "source": [
    "%config IPCompleter.greedy=True\n",
    "\n",
    "import yaml\n",
    "import psycopg2\n",
    "import os\n",
    "import os.path\n",
    "import sys\n",
    "\n",
    "# Set the path\n",
    "home_dir = os.getcwd()\n",
    "credential_dir = os.path.join('../../config')\n",
    "\n",
    "def create_pgconn(credentials_yaml):\n",
    "    with open(credentials_yaml) as f:\n",
    "        configs = yaml.load(f)\n",
    "    try: \n",
    "        conn = psycopg2.connect(\"dbname='{}' user='{}' host='{}' password='{}'\".format(\n",
    "            configs['DB_name'],\n",
    "            configs['user'],\n",
    "            configs['host'],\n",
    "            configs['password']))\n",
    "    except Exception as e: \n",
    "        print(\"Error connecting to db.\")\n",
    "        raise e\n",
    "    conn.set_client_encoding('latin_1')\n",
    "    cur = conn.cursor()\n",
    "    cur.execute(\"SET ROLE \" + configs['role'])\n",
    "    return conn"
   ]
  },
  {
   "cell_type": "code",
   "execution_count": null,
   "metadata": {},
   "outputs": [],
   "source": [
    "# Setting up a connection to the server\n",
    "\n",
    "credentials_yaml = os.path.join(credential_dir, 'db_creds.yml') #example file on hitchikers repo\n",
    "conn = create_pgconn(credentials_yaml)\n",
    "\n",
    "def sql(query, conn=conn):\n",
    "    return pd.read_sql(query, conn)"
   ]
  },
  {
   "cell_type": "code",
   "execution_count": null,
   "metadata": {
    "scrolled": true
   },
   "outputs": [],
   "source": [
    "# To rename columns, you need to find out the unique column names in the original files\n",
    "cur = conn.cursor()\n",
    "cur.execute(\"\"\"select distinct(orginal_col_name) from raw.column_mapping where table_name ~ 'raw.\"6.*';\"\"\")\n",
    "[print(x[0][1:-1]) for x in cur.fetchall()];"
   ]
  },
  {
   "cell_type": "code",
   "execution_count": null,
   "metadata": {},
   "outputs": [],
   "source": [
    "# Using the manually created 6_column_mapping.csv, a dictionary of old column name to new column name can be created\n",
    "with open('../../../../garfield/6_column_mapping.csv', 'r') as fil:\n",
    "    col_map = fil.read()\n",
    "col_names=dict()\n",
    "col_types=dict()\n",
    "union = []\n",
    "for pair in col_map.split('\\n'):\n",
    "    split_pair = pair.split(',')\n",
    "    col_names[split_pair[0]] = split_pair[1]\n",
    "    col_types[split_pair[1]] = split_pair[2]\n",
    "    union += [split_pair[1]]\n",
    "union=set(union)\n",
    "# NOT SURE THIS IS APPROPRIATE\n",
    "# # The set union will be used to determine the number and name of columns in the joined table. \n",
    "# # Instead of trusting the year column in the .csv (which is called raw_year), we will replace the year according to the file structure (and call it year)\n",
    "# union.remove('raw_year')\n",
    "# union.add('year')"
   ]
  },
  {
   "cell_type": "code",
   "execution_count": null,
   "metadata": {},
   "outputs": [],
   "source": [
    "# This creates a list of tables that we can iterate over to rename columns and join\n",
    "cur = conn.cursor()\n",
    "cur.execute(\"\"\"select distinct(table_name) from raw.column_mapping where table_name ~ 'raw.\"6.*';\"\"\")\n",
    "table_list = [x[0] for x in cur.fetchall()]\n",
    "# table_list = []\n",
    "# for table in old_table_list:\n",
    "#     if '2014' not in table:\n",
    "#         table_list += [table]"
   ]
  },
  {
   "cell_type": "markdown",
   "metadata": {},
   "source": [
    "# Preprocessing"
   ]
  },
  {
   "cell_type": "markdown",
   "metadata": {},
   "source": [
    "## Each file renamed columns"
   ]
  },
  {
   "cell_type": "code",
   "execution_count": null,
   "metadata": {},
   "outputs": [],
   "source": [
    "# # Iterates over all tables in raw (with columns a0, a1, a2...), creating a table in preprocessing (with columns nie, dpto_code_ce, year...)\n",
    "cur = conn.cursor()\n",
    "for table in table_list:\n",
    "    print(table)\n",
    "    new_table = table.replace('raw', 'preproc')\n",
    "    cur.execute(\"\"\"drop table if exists %s;\"\"\" %new_table)\n",
    "#     cur.execute(\"\"\"select mapped_col_name, orginal_col_name from raw.column_mapping where table_name='%s' order by mapped_col_name;\"\"\" %table)\n",
    "#     col_pairs = cur.fetchall()\n",
    "#     raw_cols = []\n",
    "#     renamed_cols = []\n",
    "#     for col_pair in col_pairs:\n",
    "#         raw_cols += [col_pair[0]]\n",
    "#         renamed_cols += [col_dict[col_pair[1][1:-1]]]\n",
    "#     cmnd = ' varchar, '.join(renamed_cols) + ' varchar'\n",
    "#     cur.execute(\"\"\"create table %s (%s);\"\"\" %(new_table, cmnd))\n",
    "#     cur.execute(\"\"\"insert into %s (%s) select %s from %s;\"\"\" %(new_table, ','.join(renamed_cols), ','.join(raw_cols), table))\n",
    "conn.commit()"
   ]
  },
  {
   "cell_type": "markdown",
   "metadata": {},
   "source": [
    "## Cleaning"
   ]
  },
  {
   "cell_type": "code",
   "execution_count": null,
   "metadata": {
    "scrolled": true
   },
   "outputs": [],
   "source": [
    "# # Iterate over all tables \n",
    "# #     Adding a year column that uses the file name rather than the one inside the file\n",
    "# cur = conn.cursor()\n",
    "# for table in table_list:\n",
    "#     new_table = table.replace('raw', 'preproc')\n",
    "#     table_name = new_table.split('.')[1]#.replace('\"', '')\n",
    "#     cur.execute(\"\"\"ALTER TABLE %s ADD COLUMN year varchar DEFAULT %s;\"\"\" %(new_table, (table_name[3:7])))\n",
    "# conn.commit()"
   ]
  },
  {
   "cell_type": "markdown",
   "metadata": {},
   "source": [
    "## Joined table"
   ]
  },
  {
   "cell_type": "code",
   "execution_count": null,
   "metadata": {},
   "outputs": [],
   "source": [
    "cur = conn.cursor()\n",
    "cmnd = ' varchar, '.join(union) + ' varchar'  # This creates a list of column names that will be used in the joined table\n",
    "cur.execute(\"\"\"drop table if exists preproc.\"6_joined\";\"\"\")\n",
    "cur.execute(\"\"\"create table if not exists preproc.\"6_joined\" (%s);\"\"\" %cmnd)\n",
    "conn.commit()"
   ]
  },
  {
   "cell_type": "code",
   "execution_count": null,
   "metadata": {
    "scrolled": true
   },
   "outputs": [],
   "source": [
    "# # Iterates over all the preprocessing tables and inserts them into the joined table\n",
    "# # cur = conn.cursor()\n",
    "# for table in table_list:\n",
    "#     print(table)\n",
    "#     new_table = table.replace('raw', 'preproc')\n",
    "#     cur.execute(\"\"\"select orginal_col_name from raw.column_mapping where table_name ='raw.\"6_2014_MEDIA_media\"';\"\"\")\n",
    "#     old_cols = cur.fetchall()\n",
    "#     break\n",
    "#     renamed_cols = []\n",
    "#     for col_pair in col_pairs:\n",
    "#         renamed_cols += [col_dict[col_pair[1][1:-1]]]\n",
    "#     col_str = ', '.join(renamed_cols)\n",
    "# #     col_str = col_str.replace('raw_year', 'year')\n",
    "#     cur.execute(\"\"\"insert into preproc.\"6_joined\" (%s) select %s from %s;\"\"\" %(col_str, col_str, new_table))\n",
    "# conn.commit()"
   ]
  },
  {
   "cell_type": "code",
   "execution_count": null,
   "metadata": {
    "scrolled": true
   },
   "outputs": [],
   "source": [
    "# Iterates over all tables in raw (with columns a0, a1, a2...), inserting into a joined preprocessing table (with columns nie, dpto_code_ce, year...)\n",
    "cur = conn.cursor()\n",
    "for table in table_list:\n",
    "    print(table)\n",
    "    new_table = table.replace('raw', 'preproc')\n",
    "    cur.execute(\"\"\"select mapped_col_name, orginal_col_name from raw.column_mapping where table_name='%s' order by mapped_col_name;\"\"\" %table)\n",
    "    col_pairs = cur.fetchall()\n",
    "    raw_cols = []\n",
    "    renamed_cols = []\n",
    "    for col_pair in col_pairs:\n",
    "        raw_cols += [col_pair[0]]\n",
    "        renamed_cols += [col_names[col_pair[1][1:-1]]]\n",
    "    cmnd = ' varchar, '.join(renamed_cols) + ' varchar'\n",
    "    cur.execute(\"\"\"insert into preproc.\"6_joined\" (%s) select %s from %s;\"\"\" %(','.join(renamed_cols), ','.join(raw_cols), table))\n",
    "conn.commit()"
   ]
  },
  {
   "cell_type": "code",
   "execution_count": null,
   "metadata": {
    "scrolled": true
   },
   "outputs": [],
   "source": [
    "# Changing the column types and removing empty strings\n",
    "cur = conn.cursor()\n",
    "for col, col_typ in col_types.items():\n",
    "    cur.execute(\"\"\"ALTER TABLE preproc.\"6_joined\" ALTER COLUMN %s TYPE %s using NULLIF(%s, '')::%s;\"\"\" %(col, col_typ, col, col_typ))\n",
    "conn.commit()"
   ]
  },
  {
   "cell_type": "code",
   "execution_count": null,
   "metadata": {},
   "outputs": [],
   "source": [
    "# Changing the grados column into a simple numerical key for simpler operations\n",
    "grados_dict = {'1B PRIMER AÑO DE BACHILLERATO':10,\n",
    "'01 PRIMER GRADO':1,\n",
    "'07 SEPTIMO GRADO':7,\n",
    "'06 SEXTO GRADO':6,\n",
    "'05 QUINTO GRADO':5,\n",
    "'04 CUARTO GRADO':4,\n",
    "'03 TERCER GRADO':3,\n",
    "'02 SEGUNDO GRADO':2,\n",
    "'08 OCTAVO GRADO':8,\n",
    "'09 NOVENO GRADO':9,\n",
    "'2B SEGUNDO AÑO DE BACHILLERATO':11,\n",
    "'3B TERCER AÑO DE BACHILLERATO':12,\n",
    "'5P PARVULARIA 5 AÑOS':-1,\n",
    "'6P PARVULARIA 6 AÑOS':0,\n",
    "'4P PARVULARIA 4 AÑOS':-2,\n",
    "'4B CUARTO AÑO DE BACHILLERATO':13,\n",
    "'S2 SECCIÓN 2 AÑO':11,\n",
    "'S1 SECCIÓN 1 AÑO':10}\n",
    "cmnd = ''\n",
    "for key, value in grados_dict.items():\n",
    "    cmnd += \"\"\"WHEN '%s' THEN %d \"\"\" %(key, value)"
   ]
  },
  {
   "cell_type": "code",
   "execution_count": null,
   "metadata": {},
   "outputs": [],
   "source": [
    "# Changing the types of the joined table and adding a grade_code column\n",
    "cur = conn.cursor()\n",
    "new_table = 'preproc.\"6_joined\"'\n",
    "table_name = new_table.split('.')[1]\n",
    "cur.execute(\"\"\"ALTER TABLE %s ADD COLUMN grado_code numeric\"\"\" %new_table)\n",
    "cur.execute(\"\"\"ALTER TABLE %s ALTER COLUMN status TYPE bool\n",
    "USING CASE status \n",
    "WHEN 'activo' THEN '1'::bool\n",
    "WHEN 'inactivo' THEN '0'::bool\n",
    "when '1' then '1'::bool\n",
    "when '0' then '0'::bool\n",
    "END;\"\"\" %new_table)\n",
    "cur.execute(\"\"\"ALTER TABLE %s ALTER COLUMN birth_date TYPE DATE using to_date(birth_date, 'DD-MM-YY');\"\"\" %new_table)\n",
    "cur.execute(\"\"\"ALTER TABLE %s ALTER COLUMN grado_code TYPE numeric using case grado %s END;\"\"\" %(new_table, cmnd))\n",
    "cur.execute(\"\"\"ALTER TABLE %s ALTER COLUMN gender TYPE char(1)\n",
    "USING CASE gender \n",
    "WHEN 'Masculino' THEN 'M'\n",
    "WHEN 'Femenino' THEN 'F'\n",
    "END;\"\"\" %new_table)\n",
    "conn.commit()"
   ]
  },
  {
   "cell_type": "code",
   "execution_count": null,
   "metadata": {},
   "outputs": [],
   "source": []
  },
  {
   "cell_type": "markdown",
   "metadata": {},
   "source": [
    "# Cleaning"
   ]
  },
  {
   "cell_type": "code",
   "execution_count": null,
   "metadata": {},
   "outputs": [],
   "source": [
    "# TODO\n",
    "#     Detect input errors\n",
    "#         Unique school IDs\n",
    "#         Check if a student is missing one year but appears the next in the following grade (so he's not a dropout)"
   ]
  },
  {
   "cell_type": "code",
   "execution_count": null,
   "metadata": {},
   "outputs": [],
   "source": [
    "# Checking that all the school codes are unique\n",
    "# First select all distinct combinations of school code, name and municipio code. Then count the numer of names given the same schoold and municipio code\n",
    "cur = conn.cursor()\n",
    "cur.execute(\"\"\"with distinct_all as (select distinct ce_code, ce_name, munic_code_ce from preproc.\"6_joined\")\n",
    "select count(*), ce_code, munic_code_ce from distinct_all group by ce_code, munic_code_ce order by 1 desc;\"\"\")\n",
    "print(cur.fetchall())\n",
    "# From 2015 to 2018 there is only 1 that has two names and it has the ce_code 11682\n",
    "# select ce_name from preproc.\"6_joined\" where ce_code='11682' group by ce_name;\n",
    "# Hence school codes are unique from 2015 to 2018"
   ]
  },
  {
   "cell_type": "code",
   "execution_count": null,
   "metadata": {},
   "outputs": [],
   "source": [
    "# A first cleaning step is to simply exclude NULL and 0 NIEs\n",
    "cur = conn.cursor()\n",
    "cur.execute(\"\"\"select count(*) from preproc.\"6_joined\" where id isnull or id='0';\"\"\")\n",
    "print(cur.fetchall())\n",
    "cur.execute(\"\"\"select * into preproc.\"6_cleaned\" from preproc.\"6_joined\" where id is not null and id!='0';\"\"\")\n",
    "conn.commit()"
   ]
  },
  {
   "cell_type": "code",
   "execution_count": null,
   "metadata": {},
   "outputs": [],
   "source": [
    "# Further cleaning steps will be to infer missing values by checking grades before and after"
   ]
  },
  {
   "cell_type": "markdown",
   "metadata": {},
   "source": [
    "# Moving to staging"
   ]
  },
  {
   "cell_type": "code",
   "execution_count": null,
   "metadata": {},
   "outputs": [],
   "source": [
    "# First need to find distinct combinations of nie, year\n",
    "cur = conn.cursor()\n",
    "cur.execute(\"\"\"select distinct nie, year into cleaned.distinct_nie_year from cleaned.student_registration;\"\"\")\n",
    "conn.commit()"
   ]
  },
  {
   "cell_type": "code",
   "execution_count": null,
   "metadata": {},
   "outputs": [],
   "source": [
    "# Students remaining in or leaving the school system year per year\n",
    "cur = conn.cursor()\n",
    "cur.execute(\"\"\"select a.nie, a.year into cleaned.remain_in_system from cleaned.distinct_nie_year as a left join cleaned.distinct_nie_year as b on a.nie=b.nie and b.year=a.year+1 where b.nie is not null;\"\"\")\n",
    "cur.execute(\"\"\"select a.nie, a.year into cleaned.left_system from cleaned.distinct_nie_year as a left join cleaned.distinct_nie_year as b on a.nie=b.nie and b.year=a.year+1 where b.nie is null;\"\"\")\n",
    "conn.commit()"
   ]
  },
  {
   "cell_type": "code",
   "execution_count": null,
   "metadata": {},
   "outputs": [],
   "source": [
    "# Setting the remains_in_system label and joining\n",
    "cur = conn.cursor()\n",
    "cur.execute(\"\"\"ALTER TABLE cleaned.remain_in_system ADD COLUMN remains_in_system bool;\"\"\")\n",
    "cur.execute(\"\"\"ALTER TABLE cleaned.left_system ADD COLUMN remains_in_system bool;\"\"\")\n",
    "cur.execute(\"\"\"update cleaned.remain_in_system set remains_in_system=true;\"\"\")\n",
    "cur.execute(\"\"\"update cleaned.left_system set remains_in_system=false;\"\"\")\n",
    "conn.commit()"
   ]
  },
  {
   "cell_type": "code",
   "execution_count": null,
   "metadata": {},
   "outputs": [],
   "source": [
    "cur = conn.cursor()\n",
    "cur.execute(\"\"\"create table cleaned.distinct_nie_year_labelled (like cleaned.remain_in_system);\"\"\")\n",
    "cur.execute(\"\"\"insert into cleaned.distinct_nie_year_labelled select * from cleaned.remain_in_system;\"\"\")\n",
    "cur.execute(\"\"\"insert into cleaned.distinct_nie_year_labelled select * from cleaned.left_system;\"\"\")\n",
    "conn.commit()"
   ]
  },
  {
   "cell_type": "code",
   "execution_count": null,
   "metadata": {},
   "outputs": [],
   "source": [
    "cur = conn.cursor()\n",
    "cur.execute(\"\"\"select a.remains_in_system, b.* into cleaned.student_labelled \n",
    "from cleaned.distinct_nie_year_labelled as a \n",
    "left join \n",
    "cleaned.student_registration as b \n",
    "on a.nie=b.nie and a.year=b.year; \"\"\")\n",
    "conn.commit()"
   ]
  },
  {
   "cell_type": "code",
   "execution_count": null,
   "metadata": {},
   "outputs": [],
   "source": [
    "cur = conn.cursor()\n",
    "cur.execute(\"\"\"ALTER TABLE cleaned.student_labelled ADD COLUMN dropout bool;\"\"\")\n",
    "cur.execute(\"\"\"update cleaned.student_labelled as a set dropout=true where a.remains_in_system=false and a.grado_code<12;\"\"\")\n",
    "cur.execute(\"\"\"update cleaned.student_labelled as a set dropout=false where a.remains_in_system=true and a.grado_code<12;\"\"\")\n",
    "conn.commit()"
   ]
  },
  {
   "cell_type": "code",
   "execution_count": null,
   "metadata": {},
   "outputs": [],
   "source": [
    "col_str"
   ]
  },
  {
   "cell_type": "code",
   "execution_count": null,
   "metadata": {},
   "outputs": [],
   "source": [
    "','.join(renamed_cols)"
   ]
  },
  {
   "cell_type": "code",
   "execution_count": null,
   "metadata": {
    "scrolled": true
   },
   "outputs": [],
   "source": [
    "col_types"
   ]
  },
  {
   "cell_type": "code",
   "execution_count": null,
   "metadata": {},
   "outputs": [],
   "source": [
    "col_names"
   ]
  },
  {
   "cell_type": "code",
   "execution_count": null,
   "metadata": {},
   "outputs": [],
   "source": []
  }
 ],
 "metadata": {
  "kernelspec": {
   "display_name": "Python 3",
   "language": "python",
   "name": "python3"
  },
  "language_info": {
   "codemirror_mode": {
    "name": "ipython",
    "version": 3
   },
   "file_extension": ".py",
   "mimetype": "text/x-python",
   "name": "python",
   "nbconvert_exporter": "python",
   "pygments_lexer": "ipython3",
   "version": "3.6.2"
  }
 },
 "nbformat": 4,
 "nbformat_minor": 2
}
